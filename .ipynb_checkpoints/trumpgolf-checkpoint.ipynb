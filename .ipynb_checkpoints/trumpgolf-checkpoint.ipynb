{
 "cells": [
  {
   "cell_type": "code",
   "execution_count": 29,
   "metadata": {},
   "outputs": [],
   "source": [
    "import pandas as pd\n",
    "import numpy as np\n",
    "import datetime\n",
    "import matplotlib.pyplot as plt"
   ]
  },
  {
   "cell_type": "code",
   "execution_count": 57,
   "metadata": {},
   "outputs": [],
   "source": [
    "data_file = 'trumpgolfcountoutings_111120.csv'\n",
    "golfdb = pd.read_csv(data_file)\n",
    "# Data from: https://trumpgolfcount.com/"
   ]
  },
  {
   "cell_type": "code",
   "execution_count": 71,
   "metadata": {},
   "outputs": [
    {
     "data": {
      "text/html": [
       "<div>\n",
       "<style scoped>\n",
       "    .dataframe tbody tr th:only-of-type {\n",
       "        vertical-align: middle;\n",
       "    }\n",
       "\n",
       "    .dataframe tbody tr th {\n",
       "        vertical-align: top;\n",
       "    }\n",
       "\n",
       "    .dataframe thead th {\n",
       "        text-align: right;\n",
       "    }\n",
       "</style>\n",
       "<table border=\"1\" class=\"dataframe\">\n",
       "  <thead>\n",
       "    <tr style=\"text-align: right;\">\n",
       "      <th></th>\n",
       "      <th>Golf Date</th>\n",
       "      <th>Arrival Time</th>\n",
       "      <th>Arrival Source</th>\n",
       "      <th>Depart Time</th>\n",
       "      <th>Depart Source</th>\n",
       "      <th>Club</th>\n",
       "      <th>Sighted?</th>\n",
       "      <th>Golf Source</th>\n",
       "      <th>Comment</th>\n",
       "      <th>Duration</th>\n",
       "    </tr>\n",
       "  </thead>\n",
       "  <tbody>\n",
       "    <tr>\n",
       "      <th>20</th>\n",
       "      <td>2017-05-05</td>\n",
       "      <td>2017-05-05 00:00:00</td>\n",
       "      <td>http://publicpool.kinja.com/subject-travel-poo...</td>\n",
       "      <td>2017-05-05 23:59:00</td>\n",
       "      <td>http://publicpool.kinja.com/subject-travel-poo...</td>\n",
       "      <td>Trump Natl, Bedminster, NJ</td>\n",
       "      <td>Probably Not</td>\n",
       "      <td>_</td>\n",
       "      <td>&lt;a href=\"http://www.nj.com/politics/index.ssf/...</td>\n",
       "      <td>0 days 23:59:00</td>\n",
       "    </tr>\n",
       "    <tr>\n",
       "      <th>21</th>\n",
       "      <td>2017-05-06</td>\n",
       "      <td>2017-05-06 00:00:00</td>\n",
       "      <td>http://publicpool.kinja.com/subject-daily-guid...</td>\n",
       "      <td>2017-05-06 23:59:00</td>\n",
       "      <td>http://publicpool.kinja.com/subject-travel-poo...</td>\n",
       "      <td>Trump Natl, Bedminster, NJ</td>\n",
       "      <td>Yes</td>\n",
       "      <td>https://twitter.com/mikememoli/status/86098689...</td>\n",
       "      <td>&lt;a href=\"https://www.washingtonpost.com/news/p...</td>\n",
       "      <td>0 days 23:59:00</td>\n",
       "    </tr>\n",
       "    <tr>\n",
       "      <th>22</th>\n",
       "      <td>2017-05-07</td>\n",
       "      <td>2017-05-07 00:00:00</td>\n",
       "      <td>http://publicpool.kinja.com/subject-updated-da...</td>\n",
       "      <td>2017-05-07 19:19:00</td>\n",
       "      <td>http://publicpool.kinja.com/subject-travel-poo...</td>\n",
       "      <td>Trump Natl, Bedminster, NJ</td>\n",
       "      <td>Likely</td>\n",
       "      <td>_</td>\n",
       "      <td>&lt;a href=\"http://www.mycentraljersey.com/story/...</td>\n",
       "      <td>0 days 19:19:00</td>\n",
       "    </tr>\n",
       "    <tr>\n",
       "      <th>23</th>\n",
       "      <td>2017-05-14</td>\n",
       "      <td>2017-05-14 10:32:00</td>\n",
       "      <td>http://publicpool.kinja.com/subject-pool-repor...</td>\n",
       "      <td>2017-05-14 14:35:00</td>\n",
       "      <td>http://publicpool.kinja.com/subject-pool-repor...</td>\n",
       "      <td>Trump Natl, Potomac Falls, VA</td>\n",
       "      <td>Likely</td>\n",
       "      <td>_</td>\n",
       "      <td>&lt;a href=\"http://nypost.com/2017/05/14/trump-hi...</td>\n",
       "      <td>0 days 04:03:00</td>\n",
       "    </tr>\n",
       "    <tr>\n",
       "      <th>24</th>\n",
       "      <td>2017-06-03</td>\n",
       "      <td>2017-06-03 10:42:00</td>\n",
       "      <td>http://publicpool.kinja.com/subject-in-town-po...</td>\n",
       "      <td>2017-06-03 14:22:00</td>\n",
       "      <td>http://publicpool.kinja.com/subject-in-town-po...</td>\n",
       "      <td>Trump Natl, Potomac Falls, VA</td>\n",
       "      <td>Likely</td>\n",
       "      <td>_</td>\n",
       "      <td>&lt;a href=\"http://www.businessinsider.com/trump-...</td>\n",
       "      <td>0 days 03:40:00</td>\n",
       "    </tr>\n",
       "    <tr>\n",
       "      <th>...</th>\n",
       "      <td>...</td>\n",
       "      <td>...</td>\n",
       "      <td>...</td>\n",
       "      <td>...</td>\n",
       "      <td>...</td>\n",
       "      <td>...</td>\n",
       "      <td>...</td>\n",
       "      <td>...</td>\n",
       "      <td>...</td>\n",
       "      <td>...</td>\n",
       "    </tr>\n",
       "    <tr>\n",
       "      <th>280</th>\n",
       "      <td>2020-10-01</td>\n",
       "      <td>2020-10-01 14:33:00</td>\n",
       "      <td>https://publicpool.kinja.com/subject-travel-po...</td>\n",
       "      <td>2020-10-01 16:23:00</td>\n",
       "      <td>https://publicpool.kinja.com/subject-travel-po...</td>\n",
       "      <td>Trump Natl, Bedminster, NJ</td>\n",
       "      <td>Maybe</td>\n",
       "      <td>NaN</td>\n",
       "      <td>&lt;a href=\"https://www.politico.com/states/new-j...</td>\n",
       "      <td>0 days 01:50:00</td>\n",
       "    </tr>\n",
       "    <tr>\n",
       "      <th>281</th>\n",
       "      <td>2020-10-15</td>\n",
       "      <td>2020-10-15 17:05:00</td>\n",
       "      <td>https://publicpool.kinja.com/subject-travel-po...</td>\n",
       "      <td>2020-10-15 19:22:00</td>\n",
       "      <td>https://publicpool.kinja.com/subject-travel-po...</td>\n",
       "      <td>Trump Natl, Doral, FL</td>\n",
       "      <td>Maybe</td>\n",
       "      <td>NaN</td>\n",
       "      <td>NaN</td>\n",
       "      <td>0 days 02:17:00</td>\n",
       "    </tr>\n",
       "    <tr>\n",
       "      <th>282</th>\n",
       "      <td>2020-10-16</td>\n",
       "      <td>2020-10-16 12:00:00</td>\n",
       "      <td>https://publicpool.kinja.com/subject-travel-po...</td>\n",
       "      <td>2020-10-16 12:09:00</td>\n",
       "      <td>https://publicpool.kinja.com/subject-travel-po...</td>\n",
       "      <td>Trump Natl, Doral, FL</td>\n",
       "      <td>Maybe</td>\n",
       "      <td>NaN</td>\n",
       "      <td>&lt;a href=\"https://www.huffpost.com/entry/donald...</td>\n",
       "      <td>0 days 00:09:00</td>\n",
       "    </tr>\n",
       "    <tr>\n",
       "      <th>283</th>\n",
       "      <td>2020-11-07</td>\n",
       "      <td>2020-11-07 10:39:00</td>\n",
       "      <td>https://publicpool.kinja.com/subject-in-town-p...</td>\n",
       "      <td>2020-11-07 14:30:00</td>\n",
       "      <td>https://publicpool.kinja.com/subject-intown-po...</td>\n",
       "      <td>Trump Natl, Potomac Falls, VA</td>\n",
       "      <td>Yes</td>\n",
       "      <td>https://www.businessinsider.com/trump-seen-gol...</td>\n",
       "      <td>&lt;a href=\"https://www.buzzfeednews.com/article/...</td>\n",
       "      <td>0 days 03:51:00</td>\n",
       "    </tr>\n",
       "    <tr>\n",
       "      <th>284</th>\n",
       "      <td>2020-11-08</td>\n",
       "      <td>2020-11-08 09:57:00</td>\n",
       "      <td>https://publicpool.kinja.com/subject-in-town-p...</td>\n",
       "      <td>2020-11-08 14:29:00</td>\n",
       "      <td>https://publicpool.kinja.com/subject-in-town-p...</td>\n",
       "      <td>Trump Natl, Potomac Falls, VA</td>\n",
       "      <td>Yes</td>\n",
       "      <td>https://nypost.com/2020/11/08/president-trump-...</td>\n",
       "      <td>&lt;a href=\"https://www.npr.org/sections/live-upd...</td>\n",
       "      <td>0 days 04:32:00</td>\n",
       "    </tr>\n",
       "  </tbody>\n",
       "</table>\n",
       "<p>265 rows × 10 columns</p>\n",
       "</div>"
      ],
      "text/plain": [
       "      Golf Date        Arrival Time  \\\n",
       "20   2017-05-05 2017-05-05 00:00:00   \n",
       "21   2017-05-06 2017-05-06 00:00:00   \n",
       "22   2017-05-07 2017-05-07 00:00:00   \n",
       "23   2017-05-14 2017-05-14 10:32:00   \n",
       "24   2017-06-03 2017-06-03 10:42:00   \n",
       "..          ...                 ...   \n",
       "280  2020-10-01 2020-10-01 14:33:00   \n",
       "281  2020-10-15 2020-10-15 17:05:00   \n",
       "282  2020-10-16 2020-10-16 12:00:00   \n",
       "283  2020-11-07 2020-11-07 10:39:00   \n",
       "284  2020-11-08 2020-11-08 09:57:00   \n",
       "\n",
       "                                        Arrival Source         Depart Time  \\\n",
       "20   http://publicpool.kinja.com/subject-travel-poo... 2017-05-05 23:59:00   \n",
       "21   http://publicpool.kinja.com/subject-daily-guid... 2017-05-06 23:59:00   \n",
       "22   http://publicpool.kinja.com/subject-updated-da... 2017-05-07 19:19:00   \n",
       "23   http://publicpool.kinja.com/subject-pool-repor... 2017-05-14 14:35:00   \n",
       "24   http://publicpool.kinja.com/subject-in-town-po... 2017-06-03 14:22:00   \n",
       "..                                                 ...                 ...   \n",
       "280  https://publicpool.kinja.com/subject-travel-po... 2020-10-01 16:23:00   \n",
       "281  https://publicpool.kinja.com/subject-travel-po... 2020-10-15 19:22:00   \n",
       "282  https://publicpool.kinja.com/subject-travel-po... 2020-10-16 12:09:00   \n",
       "283  https://publicpool.kinja.com/subject-in-town-p... 2020-11-07 14:30:00   \n",
       "284  https://publicpool.kinja.com/subject-in-town-p... 2020-11-08 14:29:00   \n",
       "\n",
       "                                         Depart Source  \\\n",
       "20   http://publicpool.kinja.com/subject-travel-poo...   \n",
       "21   http://publicpool.kinja.com/subject-travel-poo...   \n",
       "22   http://publicpool.kinja.com/subject-travel-poo...   \n",
       "23   http://publicpool.kinja.com/subject-pool-repor...   \n",
       "24   http://publicpool.kinja.com/subject-in-town-po...   \n",
       "..                                                 ...   \n",
       "280  https://publicpool.kinja.com/subject-travel-po...   \n",
       "281  https://publicpool.kinja.com/subject-travel-po...   \n",
       "282  https://publicpool.kinja.com/subject-travel-po...   \n",
       "283  https://publicpool.kinja.com/subject-intown-po...   \n",
       "284  https://publicpool.kinja.com/subject-in-town-p...   \n",
       "\n",
       "                              Club      Sighted?  \\\n",
       "20      Trump Natl, Bedminster, NJ  Probably Not   \n",
       "21      Trump Natl, Bedminster, NJ           Yes   \n",
       "22      Trump Natl, Bedminster, NJ        Likely   \n",
       "23   Trump Natl, Potomac Falls, VA        Likely   \n",
       "24   Trump Natl, Potomac Falls, VA        Likely   \n",
       "..                             ...           ...   \n",
       "280     Trump Natl, Bedminster, NJ         Maybe   \n",
       "281          Trump Natl, Doral, FL         Maybe   \n",
       "282          Trump Natl, Doral, FL         Maybe   \n",
       "283  Trump Natl, Potomac Falls, VA           Yes   \n",
       "284  Trump Natl, Potomac Falls, VA           Yes   \n",
       "\n",
       "                                           Golf Source  \\\n",
       "20                                                   _   \n",
       "21   https://twitter.com/mikememoli/status/86098689...   \n",
       "22                                                   _   \n",
       "23                                                   _   \n",
       "24                                                   _   \n",
       "..                                                 ...   \n",
       "280                                                NaN   \n",
       "281                                                NaN   \n",
       "282                                                NaN   \n",
       "283  https://www.businessinsider.com/trump-seen-gol...   \n",
       "284  https://nypost.com/2020/11/08/president-trump-...   \n",
       "\n",
       "                                               Comment        Duration  \n",
       "20   <a href=\"http://www.nj.com/politics/index.ssf/... 0 days 23:59:00  \n",
       "21   <a href=\"https://www.washingtonpost.com/news/p... 0 days 23:59:00  \n",
       "22   <a href=\"http://www.mycentraljersey.com/story/... 0 days 19:19:00  \n",
       "23   <a href=\"http://nypost.com/2017/05/14/trump-hi... 0 days 04:03:00  \n",
       "24   <a href=\"http://www.businessinsider.com/trump-... 0 days 03:40:00  \n",
       "..                                                 ...             ...  \n",
       "280  <a href=\"https://www.politico.com/states/new-j... 0 days 01:50:00  \n",
       "281                                                NaN 0 days 02:17:00  \n",
       "282  <a href=\"https://www.huffpost.com/entry/donald... 0 days 00:09:00  \n",
       "283  <a href=\"https://www.buzzfeednews.com/article/... 0 days 03:51:00  \n",
       "284  <a href=\"https://www.npr.org/sections/live-upd... 0 days 04:32:00  \n",
       "\n",
       "[265 rows x 10 columns]"
      ]
     },
     "execution_count": 71,
     "metadata": {},
     "output_type": "execute_result"
    }
   ],
   "source": [
    "golfdb[20:]"
   ]
  },
  {
   "cell_type": "code",
   "execution_count": 58,
   "metadata": {},
   "outputs": [],
   "source": [
    "for i in ['Arrival Time', 'Depart Time']:\n",
    "    golfdb[i] = golfdb[i].apply(datetime.datetime.strptime, args= ('%Y-%m-%d %H:%M:%S', ))\n",
    "golfdb['Golf Date'] = golfdb['Golf Date'].apply(datetime.datetime.strptime, args= ('%Y-%m-%d', )).apply(datetime.datetime.date)"
   ]
  },
  {
   "cell_type": "code",
   "execution_count": 62,
   "metadata": {},
   "outputs": [
    {
     "data": {
      "text/plain": [
       "0   0 days 04:32:00\n",
       "1   0 days 04:41:00\n",
       "2   0 days 04:24:00\n",
       "3   0 days 05:18:00\n",
       "4   0 days 05:27:00\n",
       "Name: Duration, dtype: timedelta64[ns]"
      ]
     },
     "execution_count": 62,
     "metadata": {},
     "output_type": "execute_result"
    }
   ],
   "source": [
    "golfdb['Duration'] = golfdb['Depart Time'] - golfdb['Arrival Time']\n",
    "golfdb['Duration'].head()"
   ]
  },
  {
   "cell_type": "code",
   "execution_count": 49,
   "metadata": {},
   "outputs": [],
   "source": [
    "inaug_day = datetime.datetime.strptime('2017-1-20', '%Y-%m-%d').date()\n",
    "today = datetime.datetime.now().date()\n",
    "tpres_days = [inaug_day + datetime.timedelta(days=i) for i in range((today - inaug_day).days)]"
   ]
  },
  {
   "cell_type": "code",
   "execution_count": 90,
   "metadata": {},
   "outputs": [],
   "source": [
    "tpres_golfh = []\n",
    "for day in tpres_days:\n",
    "    sessions = golfdb['Duration'][golfdb['Golf Date'] == day]\n",
    "    if len(sessions) != 0:\n",
    "        tpres_golfh.append(sessions.sum().total_seconds()/3600)\n",
    "    else:\n",
    "        tpres_golfh.append(0)"
   ]
  },
  {
   "cell_type": "code",
   "execution_count": 91,
   "metadata": {},
   "outputs": [
    {
     "data": {
      "text/plain": [
       "[<matplotlib.lines.Line2D at 0x7f7dfb4b1880>]"
      ]
     },
     "execution_count": 91,
     "metadata": {},
     "output_type": "execute_result"
    },
    {
     "data": {
      "image/png": "[encoded data removed]",
      "text/plain": [
       "<Figure size 432x288 with 1 Axes>"
      ]
     },
     "metadata": {
      "needs_background": "light"
     },
     "output_type": "display_data"
    }
   ],
   "source": [
    "plt.plot(tpres_days, tpres_golfh)"
   ]
  },
  {
   "cell_type": "code",
   "execution_count": 93,
   "metadata": {},
   "outputs": [
    {
     "data": {
      "text/plain": [
       "[<matplotlib.lines.Line2D at 0x7f7dfb412130>]"
      ]
     },
     "execution_count": 93,
     "metadata": {},
     "output_type": "execute_result"
    },
    {
     "data": {
      "image/png": "[encoded data removed]",
      "text/plain": [
       "<Figure size 432x288 with 1 Axes>"
      ]
     },
     "metadata": {
      "needs_background": "light"
     },
     "output_type": "display_data"
    }
   ],
   "source": [
    "plt.plot(tpres_days, np.cumsum(tpres_golfh))"
   ]
  },
  {
   "cell_type": "code",
   "execution_count": 106,
   "metadata": {},
   "outputs": [],
   "source": [
    "import matplotlib.dates as mdates"
   ]
  },
  {
   "cell_type": "code",
   "execution_count": 115,
   "metadata": {},
   "outputs": [
    {
     "data": {
      "image/png": "[encoded data removed]",
      "text/plain": [
       "<Figure size 1260x420 with 1 Axes>"
      ]
     },
     "metadata": {
      "needs_background": "light"
     },
     "output_type": "display_data"
    }
   ],
   "source": [
    "fig = plt.figure(figsize=(9,3), dpi=140)\n",
    "ax = plt.gca()\n",
    "years = mdates.YearLocator()\n",
    "months = mdates.MonthLocator()\n",
    "years_fmt = mdates.DateFormatter('%Y')\n",
    "\n",
    "plt.plot(tpres_days, np.cumsum(tpres_golfh))\n",
    "ax.xaxis.set_major_locator(years)\n",
    "ax.xaxis.set_major_formatter(years_fmt)\n",
    "ax.xaxis.set_minor_locator(months)\n",
    "\n",
    "ax.set_ylabel('Cumulative Hours')\n",
    "ax.set_title('Time Trump Spent at Golf Clubs While President')\n",
    "\n",
    "ax.format_xdata = mdates.DateFormatter('%Y-%m-%d')\n",
    "ax.grid(True)"
   ]
  }
 ],
 "metadata": {
  "kernelspec": {
   "display_name": "Python 3",
   "language": "python",
   "name": "python3"
  },
  "language_info": {
   "codemirror_mode": {
    "name": "ipython",
    "version": 3
   },
   "file_extension": ".py",
   "mimetype": "text/x-python",
   "name": "python",
   "nbconvert_exporter": "python",
   "pygments_lexer": "ipython3",
   "version": "3.8.5"
  }
 },
 "nbformat": 4,
 "nbformat_minor": 4
}
